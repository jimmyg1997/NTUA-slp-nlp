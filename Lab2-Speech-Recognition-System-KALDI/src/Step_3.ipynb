{
 "cells": [
  {
   "cell_type": "code",
   "execution_count": 1,
   "metadata": {},
   "outputs": [
    {
     "data": {
      "text/plain": [
       "'/Users/jimmyg1997/kaldi/egs/usc/data/dev/uttids'"
      ]
     },
     "execution_count": 1,
     "metadata": {},
     "output_type": "execute_result"
    }
   ],
   "source": [
    "#------------------------------------------STEP 3 - Preparation------------------------------------------#\n",
    "#-------------------(1)-------------------#\n",
    "import shutil\n",
    "import re\n",
    "import string\n",
    "import os\n",
    "from collections import defaultdict\n",
    "destination_directory = !mdfind kind:folder \"kaldi\"\n",
    "destination_directory = destination_directory[0].split('/')[:4]\n",
    "destination_directory = '/'.join(destination_directory)\n",
    "destination_directory = destination_directory + \"/egs/usc/data\"\n",
    "shutil.copy(\"slp_lab2_data/filesets/test_utterances.txt\", destination_directory + \"/test/uttids\")\n",
    "shutil.copy(\"slp_lab2_data/filesets/train_utterances.txt\",destination_directory + \"/train/uttids\")\n",
    "shutil.copy(\"slp_lab2_data/filesets/validation_utterances.txt\",destination_directory + \"/dev/uttids\")"
   ]
  },
  {
   "cell_type": "code",
   "execution_count": 2,
   "metadata": {},
   "outputs": [],
   "source": [
    "#-------------------(2)-------------------#\n",
    "import os\n",
    "for file in os.listdir(destination_directory):\n",
    "    if(file == \".DS_Store\"): continue\n",
    "    filename_source = open(destination_directory + '/'+file + \"/uttids\", 'r')\n",
    "    lines_source = filename_source.readlines()\n",
    "    filename_destination = open(destination_directory + '/'+ file + \"/utt2spk\",'w')\n",
    "    \n",
    "    for line in lines_source:\n",
    "        filename_destination.write(line.strip('\\n') + ' ' +line.split('_')[2] + '\\n')\n",
    "        \n",
    "filename_source.close()\n",
    "filename_destination.close()"
   ]
  },
  {
   "cell_type": "code",
   "execution_count": 3,
   "metadata": {},
   "outputs": [],
   "source": [
    "#-------------------(3)-------------------#\n",
    "import os\n",
    "slp_lab2_data = !mdfind kind:folder \"slp_lab2_data\"\n",
    "slp_lab2_data = slp_lab2_data[0] + \"/wav/\"\n",
    "\n",
    "for file in os.listdir(destination_directory):\n",
    "    if(file == \".DS_Store\"): continue\n",
    "    filename_source = open(destination_directory + '/'+file + \"/utt2spk\", 'r')\n",
    "    lines_source = filename_source.readlines()\n",
    "    filename_destination = open(destination_directory + '/'+ file + \"/wav.scp\",'w')\n",
    "    \n",
    "    for line in lines_source:\n",
    "        path = slp_lab2_data + line.split()[1] +'/' +line.split()[0] +\".wav\"\n",
    "        filename_destination.write(line.split()[0] + ' ' +path + '\\n')\n",
    "        \n",
    "filename_source.close()\n",
    "filename_destination.close()"
   ]
  },
  {
   "cell_type": "code",
   "execution_count": 4,
   "metadata": {},
   "outputs": [],
   "source": [
    "#-------------------(4)-------------------#\n",
    "for file in os.listdir(destination_directory):\n",
    "    if(file == \".DS_Store\"): continue\n",
    "    filename_source = open(destination_directory + '/'+file + \"/utt2spk\", 'r')\n",
    "    lines_source = filename_source.readlines()\n",
    "    filename_destination = open(destination_directory + '/'+ file + \"/text\",'w')\n",
    "    sentences = \"slp_lab2_data/transcription.txt\"\n",
    "    sentences = open(sentences, 'r')\n",
    "    lines_sentences = sentences.readlines()\n",
    "    \n",
    "    for line in lines_source:\n",
    "        chat = int(line.split()[0].split(\"_\")[3])\n",
    "        filename_destination.write(line.split()[0]+ ' '+lines_sentences[chat-1].strip('\\n') + '\\n')\n",
    "       \n",
    "    \n",
    "        \n",
    "filename_source.close()\n",
    "filename_destination.close()"
   ]
  },
  {
   "cell_type": "code",
   "execution_count": 5,
   "metadata": {},
   "outputs": [],
   "source": [
    "#-------------------(5)-------------------#\n",
    "\n",
    "#Tokenization step, a simple version which includes tokens of lowercase words\n",
    "def tokenize(s):\n",
    "    s_temp = s.strip().lower()\n",
    "    s_temp = re.sub('[^A-Za-z\\n\\s]+', '', s_temp)\n",
    "    s_temp = s_temp.replace('\\n', ' ')\n",
    "    s_temp = \" \".join(s_temp.split())\n",
    "    s_temp = s_temp.split(' ')\n",
    "    s_temp[:] = [item for item in s_temp if item != '']\n",
    "    return s_temp\n",
    "\n",
    "def create_lexicon():\n",
    "    lexicon = \"slp_lab2_data/lexicon.txt\"\n",
    "    lexicon = open(lexicon, 'r')\n",
    "    lines_lexicon = lexicon.readlines()\n",
    "    dictionary = defaultdict(dict)\n",
    "    for line in lines_lexicon:\n",
    "        words = line.split()\n",
    "        dictionary[words[0].lower()] = words[1:]\n",
    "    return dictionary\n",
    "\n",
    "lexicon = create_lexicon()\n",
    "for file in os.listdir(destination_directory):\n",
    "    if(file == \".DS_Store\"): continue\n",
    "    filename_source = open(destination_directory + '/'+ file + \"/text\",'r')\n",
    "    lines_source = filename_source.readlines()\n",
    "    filename_source.close()\n",
    "    filename_destination = open(destination_directory + '/'+ file + \"/text\",'w')\n",
    "\n",
    "    for line in lines_source:\n",
    "        \n",
    "        converted_line = tokenize(' '.join(line.split()))\n",
    "        result_line = \"sil\"\n",
    "        for item in converted_line:\n",
    "            result_line += ' '.join(lexicon[item]) + ' '\n",
    "        result_line += \"sil\"\n",
    "\n",
    "        \n",
    "        filename_destination.write(line.split()[0] +' '+result_line + '\\n')\n",
    "     \n",
    "        \n",
    "            "
   ]
  }
 ],
 "metadata": {
  "kernelspec": {
   "display_name": "Python 3",
   "language": "python",
   "name": "python3"
  },
  "language_info": {
   "codemirror_mode": {
    "name": "ipython",
    "version": 3
   },
   "file_extension": ".py",
   "mimetype": "text/x-python",
   "name": "python",
   "nbconvert_exporter": "python",
   "pygments_lexer": "ipython3",
   "version": "3.6.3"
  }
 },
 "nbformat": 4,
 "nbformat_minor": 2
}
